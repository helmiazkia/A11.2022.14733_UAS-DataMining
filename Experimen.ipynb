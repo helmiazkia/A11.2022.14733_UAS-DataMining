{
  "cells": [
    {
      "cell_type": "code",
      "execution_count": null,
      "metadata": {
        "id": "zWM4Dgj55Juo"
      },
      "outputs": [],
      "source": [
        "import pandas as pd\n",
        "import numpy as np\n",
        "import matplotlib.pyplot as plt\n",
        "import seaborn as sns\n",
        "import re"
      ]
    },
    {
      "cell_type": "code",
      "execution_count": 13,
      "metadata": {
        "id": "cLODxtoi5fPR"
      },
      "outputs": [
        {
          "ename": "NameError",
          "evalue": "name 'pd' is not defined",
          "output_type": "error",
          "traceback": [
            "\u001b[1;31m---------------------------------------------------------------------------\u001b[0m",
            "\u001b[1;31mNameError\u001b[0m                                 Traceback (most recent call last)",
            "Cell \u001b[1;32mIn[13], line 1\u001b[0m\n\u001b[1;32m----> 1\u001b[0m data \u001b[38;5;241m=\u001b[39m \u001b[43mpd\u001b[49m\u001b[38;5;241m.\u001b[39mread_csv(\u001b[38;5;124m'\u001b[39m\u001b[38;5;124mDataset/heart_attack.csv\u001b[39m\u001b[38;5;124m'\u001b[39m)\n",
            "\u001b[1;31mNameError\u001b[0m: name 'pd' is not defined"
          ]
        }
      ],
      "source": [
        "data = pd.read_csv('/Dataset/heart_attack.csv')"
      ]
    },
    {
      "cell_type": "markdown",
      "metadata": {
        "id": "ZwlLVs67B9ER"
      },
      "source": [
        "Visualisasi Data"
      ]
    },
    {
      "cell_type": "code",
      "execution_count": null,
      "metadata": {
        "colab": {
          "base_uri": "https://localhost:8080/",
          "height": 383
        },
        "id": "WjI78BCF5kua",
        "outputId": "0b1e7fa7-5fd1-4564-e6d4-88d510feebcf"
      },
      "outputs": [],
      "source": [
        "data.sample(10)"
      ]
    },
    {
      "cell_type": "code",
      "execution_count": null,
      "metadata": {
        "colab": {
          "base_uri": "https://localhost:8080/"
        },
        "id": "8zTmUq415nRJ",
        "outputId": "a56c361f-f7d4-4817-d260-b9e147ea5305"
      },
      "outputs": [],
      "source": [
        "data.info()"
      ]
    },
    {
      "cell_type": "code",
      "execution_count": null,
      "metadata": {
        "colab": {
          "base_uri": "https://localhost:8080/"
        },
        "id": "4uS-yyXO5qfn",
        "outputId": "0579f0c9-40a1-44cc-c411-630e9b01adb8"
      },
      "outputs": [],
      "source": [
        "print(\"Total Baris: \",data.shape[0])\n",
        "print(\"Total Kolom: \",data.shape[1])"
      ]
    },
    {
      "cell_type": "markdown",
      "metadata": {
        "id": "7Ec0RkjDCC1B"
      },
      "source": [
        "Menghilangkan null values (data kosong)"
      ]
    },
    {
      "cell_type": "code",
      "execution_count": null,
      "metadata": {
        "colab": {
          "base_uri": "https://localhost:8080/",
          "height": 443
        },
        "id": "kVeT9ux957Yu",
        "outputId": "62490d8c-7f2a-4b21-996a-ad1df3098585"
      },
      "outputs": [],
      "source": [
        "data.isnull()"
      ]
    },
    {
      "cell_type": "code",
      "execution_count": null,
      "metadata": {
        "colab": {
          "base_uri": "https://localhost:8080/"
        },
        "id": "IrYj1DiG6pjw",
        "outputId": "cccf8551-0166-4d05-bd3e-10c89a9c112a"
      },
      "outputs": [],
      "source": [
        "data.isnull().sum()"
      ]
    },
    {
      "cell_type": "markdown",
      "metadata": {
        "id": "-W_Bj45BCHNS"
      },
      "source": [
        "Cara lain untuk mengecek null, yaitu di cek per kolom satu per satu"
      ]
    },
    {
      "cell_type": "code",
      "execution_count": null,
      "metadata": {
        "colab": {
          "base_uri": "https://localhost:8080/",
          "height": 73
        },
        "id": "6YBaqKjU6tWR",
        "outputId": "6eabe536-1c3a-4864-9b8d-28203579e24f"
      },
      "outputs": [],
      "source": [
        "data.loc[data['age'].isnull()]"
      ]
    },
    {
      "cell_type": "code",
      "execution_count": null,
      "metadata": {
        "colab": {
          "base_uri": "https://localhost:8080/",
          "height": 73
        },
        "id": "-n1_sOWe6xej",
        "outputId": "55bb9fb7-7a72-4e99-af52-df08972235c8"
      },
      "outputs": [],
      "source": [
        "data.loc[data['gender'].isnull()]"
      ]
    },
    {
      "cell_type": "code",
      "execution_count": null,
      "metadata": {
        "colab": {
          "base_uri": "https://localhost:8080/",
          "height": 73
        },
        "id": "s6dSAoUa62e9",
        "outputId": "5bf05c11-8d41-4908-b3b9-5abcff16cc9b"
      },
      "outputs": [],
      "source": [
        "data.loc[data['impluse'].isnull()]"
      ]
    },
    {
      "cell_type": "code",
      "execution_count": null,
      "metadata": {
        "colab": {
          "base_uri": "https://localhost:8080/",
          "height": 73
        },
        "id": "YodhTTlz64kM",
        "outputId": "827cc6a7-72d4-4d29-ae39-3b7fdefa62a2"
      },
      "outputs": [],
      "source": [
        "data.loc[data['pressurehight'].isnull()]"
      ]
    },
    {
      "cell_type": "code",
      "execution_count": null,
      "metadata": {
        "colab": {
          "base_uri": "https://localhost:8080/",
          "height": 73
        },
        "id": "x0AAFwT066ux",
        "outputId": "a3b58c4c-8a02-46fd-f3bb-0c2fa7da0d78"
      },
      "outputs": [],
      "source": [
        "data.loc[data['pressurelow'].isnull()]"
      ]
    },
    {
      "cell_type": "code",
      "execution_count": null,
      "metadata": {
        "colab": {
          "base_uri": "https://localhost:8080/",
          "height": 73
        },
        "id": "F71lb8lm68xr",
        "outputId": "8634a9d4-e7bb-46fe-d0fd-53bfc4294a1a"
      },
      "outputs": [],
      "source": [
        "data.loc[data['glucose'].isnull()]"
      ]
    },
    {
      "cell_type": "code",
      "execution_count": null,
      "metadata": {
        "colab": {
          "base_uri": "https://localhost:8080/",
          "height": 73
        },
        "id": "F88wRrtM6-9g",
        "outputId": "273ae4ca-1fea-44f2-9ac3-c3b6d8a08d69"
      },
      "outputs": [],
      "source": [
        "data.loc[data['kcm'].isnull()]"
      ]
    },
    {
      "cell_type": "code",
      "execution_count": null,
      "metadata": {
        "colab": {
          "base_uri": "https://localhost:8080/",
          "height": 73
        },
        "id": "YRMm5vKc7A1j",
        "outputId": "e5d20849-6751-45af-f501-a4f08c87585a"
      },
      "outputs": [],
      "source": [
        "data.loc[data['troponin'].isnull()]"
      ]
    },
    {
      "cell_type": "code",
      "execution_count": null,
      "metadata": {
        "colab": {
          "base_uri": "https://localhost:8080/",
          "height": 73
        },
        "id": "8rn3VCZc7Cii",
        "outputId": "14a8bc1a-bd48-4f0e-dd61-7853ee203c55"
      },
      "outputs": [],
      "source": [
        "data.loc[data['class'].isnull()]"
      ]
    },
    {
      "cell_type": "markdown",
      "metadata": {
        "id": "WQwB00TrGivo"
      },
      "source": [
        "### **Cek Duplikasi Data**\n",
        "\n"
      ]
    },
    {
      "cell_type": "code",
      "execution_count": null,
      "metadata": {
        "colab": {
          "base_uri": "https://localhost:8080/"
        },
        "id": "-600qTvaGlGD",
        "outputId": "2b8bb7e8-0105-40b9-dff6-bfe6d22c9328"
      },
      "outputs": [],
      "source": [
        "data_dup = data.duplicated().any()\n",
        "print(data_dup)"
      ]
    },
    {
      "cell_type": "markdown",
      "metadata": {
        "id": "kV41ujeDG5Dq"
      },
      "source": [
        "Mengatasi duplikasi data"
      ]
    },
    {
      "cell_type": "code",
      "execution_count": null,
      "metadata": {
        "id": "StayjuCTHE7s"
      },
      "outputs": [],
      "source": [
        "data = data.drop_duplicates()"
      ]
    },
    {
      "cell_type": "markdown",
      "metadata": {
        "id": "n-H_qUz6HNTm"
      },
      "source": [
        "Cek lagi data shapenya setelah proses remove data duplicate\n",
        "(setelah dicek lagi, terdapat perubahan pada rows(baris) atau tidak? )"
      ]
    },
    {
      "cell_type": "code",
      "execution_count": null,
      "metadata": {
        "colab": {
          "base_uri": "https://localhost:8080/"
        },
        "id": "VuZ9c1QIHVOV",
        "outputId": "915fa3b2-79f7-45ee-c57d-bf6b233fcc7f"
      },
      "outputs": [],
      "source": [
        "data.shape"
      ]
    },
    {
      "cell_type": "markdown",
      "metadata": {
        "id": "3EOEhUqvCQwB"
      },
      "source": [
        "### Outlier\n",
        "(data yang nilainya jauh dari populasi), untuk contoh dilakukan perhitungan outlier untuk variable age"
      ]
    },
    {
      "cell_type": "code",
      "execution_count": null,
      "metadata": {
        "colab": {
          "base_uri": "https://localhost:8080/",
          "height": 876
        },
        "id": "gdnLI_tZ7EVb",
        "outputId": "843e7cde-f70e-45c9-c99d-448209faf81a"
      },
      "outputs": [],
      "source": [
        "import pandas as pd\n",
        "from scipy import stats\n",
        "\n",
        "# Specify the column you want to analyze for outliers (e.g., 'age')\n",
        "column_name = 'age'\n",
        "\n",
        "# Method 2: IQR (Interquartile Range) Method\n",
        "Q1 = data[column_name].quantile(0.25)\n",
        "Q3 = data[column_name].quantile(0.75)\n",
        "IQR = Q3 - Q1\n",
        "\n",
        "# Define lower and upper bounds for outliers\n",
        "lower_bound = Q1 - 1.5 * IQR\n",
        "upper_bound = Q3 + 1.5 * IQR\n",
        "\n",
        "# Identify outliers based on the bounds\n",
        "outliers_iqr = data[(data[column_name] < lower_bound) | (data[column_name] > upper_bound)]\n",
        "\n",
        "print(\"\\nOutliers using IQR Method:\")\n",
        "print(outliers_iqr)\n",
        "\n",
        "print(\"\\n\")\n",
        "# # Create a box plot to visualize outliers\n",
        "# plt.figure(figsize=(8, 6))\n",
        "# plt.boxplot(data[column_name])\n",
        "# plt.title(f'Box Plot for {column_name}')\n",
        "# plt.ylabel(column_name)\n",
        "# plt.show()\n",
        "\n",
        "# Create a scatter plot to visualize outliers\n",
        "plt.figure(figsize=(8, 6))\n",
        "plt.scatter(data.index, data[column_name], label='Data Points', alpha=0.5)\n",
        "plt.scatter(outliers_iqr.index, outliers_iqr[column_name], color='red', label='Outliers (IQR)', alpha=0.7)\n",
        "plt.title(f'Scatter Plot with Outliers for {column_name}')\n",
        "plt.xlabel('Index')\n",
        "plt.ylabel(column_name)\n",
        "plt.legend()\n",
        "plt.show()\n",
        "\n",
        "data = data.drop(outliers_iqr.index) # data outlier drop"
      ]
    },
    {
      "cell_type": "code",
      "execution_count": null,
      "metadata": {
        "colab": {
          "base_uri": "https://localhost:8080/"
        },
        "id": "umDz5kFJLFC4",
        "outputId": "56a63193-9b42-4e42-9dbd-69567a381a4a"
      },
      "outputs": [],
      "source": [
        "data.shape"
      ]
    },
    {
      "cell_type": "code",
      "execution_count": null,
      "metadata": {
        "colab": {
          "base_uri": "https://localhost:8080/",
          "height": 656
        },
        "id": "-jTondEE76tX",
        "outputId": "124ed010-ac4f-4128-9b72-08f1bbe8b1c8"
      },
      "outputs": [],
      "source": [
        "# Specify the column you want to analyze for outliers (e.g., 'age')\n",
        "column_name = 'gender'\n",
        "\n",
        "# Method 2: IQR (Interquartile Range) Method\n",
        "Q1 = data[column_name].quantile(0.25)\n",
        "Q3 = data[column_name].quantile(0.75)\n",
        "IQR = Q3 - Q1\n",
        "\n",
        "# Define lower and upper bounds for outliers\n",
        "lower_bound = Q1 - 1.5 * IQR\n",
        "upper_bound = Q3 + 1.5 * IQR\n",
        "\n",
        "# Identify outliers based on the bounds\n",
        "outliers_iqr = data[(data[column_name] < lower_bound) | (data[column_name] > upper_bound)]\n",
        "\n",
        "print(\"\\nOutliers using IQR Method:\")\n",
        "print(outliers_iqr)\n",
        "\n",
        "print(\"\\n\")\n",
        "# # Create a box plot to visualize outliers\n",
        "# plt.figure(figsize=(8, 6))\n",
        "# plt.boxplot(data[column_name])\n",
        "# plt.title(f'Box Plot for {column_name}')\n",
        "# plt.ylabel(column_name)\n",
        "# plt.show()\n",
        "\n",
        "# Create a scatter plot to visualize outliers\n",
        "plt.figure(figsize=(8, 6))\n",
        "plt.scatter(data.index, data[column_name], label='Data Points', alpha=0.5)\n",
        "plt.scatter(outliers_iqr.index, outliers_iqr[column_name], color='red', label='Outliers (IQR)', alpha=0.7)\n",
        "plt.title(f'Scatter Plot with Outliers for {column_name}')\n",
        "plt.xlabel('Index')\n",
        "plt.ylabel(column_name)\n",
        "plt.legend()\n",
        "plt.show()\n",
        "\n",
        "data = data.drop(outliers_iqr.index)"
      ]
    },
    {
      "cell_type": "code",
      "execution_count": null,
      "metadata": {
        "colab": {
          "base_uri": "https://localhost:8080/"
        },
        "id": "v25-L7mYLtVk",
        "outputId": "90c0b735-c453-4763-e12f-404d7bf3bdea"
      },
      "outputs": [],
      "source": [
        "data.shape"
      ]
    },
    {
      "cell_type": "code",
      "execution_count": null,
      "metadata": {
        "colab": {
          "base_uri": "https://localhost:8080/",
          "height": 1000
        },
        "id": "Fbk2K_RNAhNO",
        "outputId": "4f3aa887-b845-4774-fa59-c0a68b8487d0"
      },
      "outputs": [],
      "source": [
        "# Specify the column you want to analyze for outliers (e.g., 'age')\n",
        "column_name = 'impluse'\n",
        "\n",
        "# Method 2: IQR (Interquartile Range) Method\n",
        "Q1 = data[column_name].quantile(0.25)\n",
        "Q3 = data[column_name].quantile(0.75)\n",
        "IQR = Q3 - Q1\n",
        "\n",
        "# Define lower and upper bounds for outliers\n",
        "lower_bound = Q1 - 1.5 * IQR\n",
        "upper_bound = Q3 + 1.5 * IQR\n",
        "\n",
        "# Identify outliers based on the bounds\n",
        "outliers_iqr = data[(data[column_name] < lower_bound) | (data[column_name] > upper_bound)]\n",
        "\n",
        "print(\"\\nOutliers using IQR Method:\")\n",
        "print(outliers_iqr)\n",
        "\n",
        "print(\"\\n\")\n",
        "# # Create a box plot to visualize outliers\n",
        "# plt.figure(figsize=(8, 6))\n",
        "# plt.boxplot(data[column_name])\n",
        "# plt.title(f'Box Plot for {column_name}')\n",
        "# plt.ylabel(column_name)\n",
        "# plt.show()\n",
        "\n",
        "# Create a scatter plot to visualize outliers\n",
        "plt.figure(figsize=(8, 6))\n",
        "plt.scatter(data.index, data[column_name], label='Data Points', alpha=0.5)\n",
        "plt.scatter(outliers_iqr.index, outliers_iqr[column_name], color='red', label='Outliers (IQR)', alpha=0.7)\n",
        "plt.title(f'Scatter Plot with Outliers for {column_name}')\n",
        "plt.xlabel('Index')\n",
        "plt.ylabel(column_name)\n",
        "plt.legend()\n",
        "plt.show()\n",
        "\n",
        "data = data.drop(outliers_iqr.index)"
      ]
    },
    {
      "cell_type": "code",
      "execution_count": null,
      "metadata": {
        "colab": {
          "base_uri": "https://localhost:8080/"
        },
        "id": "KKwbD_QML7zo",
        "outputId": "0bd001d4-06ad-427e-ca61-b74029fa3434"
      },
      "outputs": [],
      "source": [
        "data.shape"
      ]
    },
    {
      "cell_type": "code",
      "execution_count": null,
      "metadata": {
        "colab": {
          "base_uri": "https://localhost:8080/",
          "height": 1000
        },
        "id": "VV6rOAjNw7Jc",
        "outputId": "a5c9aa12-b84a-4ffb-8c1a-b4d4444d9dcc"
      },
      "outputs": [],
      "source": [
        "# Specify the column you want to analyze for outliers (e.g., 'age')\n",
        "column_name = 'pressurehight'\n",
        "\n",
        "# Method 2: IQR (Interquartile Range) Method\n",
        "Q1 = data[column_name].quantile(0.25)\n",
        "Q3 = data[column_name].quantile(0.75)\n",
        "IQR = Q3 - Q1\n",
        "\n",
        "# Define lower and upper bounds for outliers\n",
        "lower_bound = Q1 - 1.5 * IQR\n",
        "upper_bound = Q3 + 1.5 * IQR\n",
        "\n",
        "# Identify outliers based on the bounds\n",
        "outliers_iqr = data[(data[column_name] < lower_bound) | (data[column_name] > upper_bound)]\n",
        "\n",
        "print(\"\\nOutliers using IQR Method:\")\n",
        "print(outliers_iqr)\n",
        "\n",
        "print(\"\\n\")\n",
        "# # Create a box plot to visualize outliers\n",
        "# plt.figure(figsize=(8, 6))\n",
        "# plt.boxplot(data[column_name])\n",
        "# plt.title(f'Box Plot for {column_name}')\n",
        "# plt.ylabel(column_name)\n",
        "# plt.show()\n",
        "\n",
        "# Create a scatter plot to visualize outliers\n",
        "plt.figure(figsize=(8, 6))\n",
        "plt.scatter(data.index, data[column_name], label='Data Points', alpha=0.5)\n",
        "plt.scatter(outliers_iqr.index, outliers_iqr[column_name], color='red', label='Outliers (IQR)', alpha=0.7)\n",
        "plt.title(f'Scatter Plot with Outliers for {column_name}')\n",
        "plt.xlabel('Index')\n",
        "plt.ylabel(column_name)\n",
        "plt.legend()\n",
        "plt.show()\n",
        "\n",
        "data = data.drop(outliers_iqr.index)"
      ]
    },
    {
      "cell_type": "code",
      "execution_count": null,
      "metadata": {
        "colab": {
          "base_uri": "https://localhost:8080/"
        },
        "id": "wsxAzQ-zMJ4I",
        "outputId": "e709b3da-7e57-4127-870e-dbec32a56fd3"
      },
      "outputs": [],
      "source": [
        "data.shape"
      ]
    },
    {
      "cell_type": "code",
      "execution_count": null,
      "metadata": {
        "colab": {
          "base_uri": "https://localhost:8080/",
          "height": 841
        },
        "id": "4MaTXOmdyqAH",
        "outputId": "56b94f46-3c73-48ee-8fd3-ce1aaf385a56"
      },
      "outputs": [],
      "source": [
        "# Specify the column you want to analyze for outliers (e.g., 'age')\n",
        "column_name = 'pressurelow'\n",
        "\n",
        "# Method 2: IQR (Interquartile Range) Method\n",
        "Q1 = data[column_name].quantile(0.25)\n",
        "Q3 = data[column_name].quantile(0.75)\n",
        "IQR = Q3 - Q1\n",
        "\n",
        "# Define lower and upper bounds for outliers\n",
        "lower_bound = Q1 - 1.5 * IQR\n",
        "upper_bound = Q3 + 1.5 * IQR\n",
        "\n",
        "# Identify outliers based on the bounds\n",
        "outliers_iqr = data[(data[column_name] < lower_bound) | (data[column_name] > upper_bound)]\n",
        "\n",
        "print(\"\\nOutliers using IQR Method:\")\n",
        "print(outliers_iqr)\n",
        "\n",
        "print(\"\\n\")\n",
        "# # Create a box plot to visualize outliers\n",
        "# plt.figure(figsize=(8, 6))\n",
        "# plt.boxplot(data[column_name])\n",
        "# plt.title(f'Box Plot for {column_name}')\n",
        "# plt.ylabel(column_name)\n",
        "# plt.show()\n",
        "\n",
        "# Create a scatter plot to visualize outliers\n",
        "plt.figure(figsize=(8, 6))\n",
        "plt.scatter(data.index, data[column_name], label='Data Points', alpha=0.5)\n",
        "plt.scatter(outliers_iqr.index, outliers_iqr[column_name], color='red', label='Outliers (IQR)', alpha=0.7)\n",
        "plt.title(f'Scatter Plot with Outliers for {column_name}')\n",
        "plt.xlabel('Index')\n",
        "plt.ylabel(column_name)\n",
        "plt.legend()\n",
        "plt.show()\n",
        "\n",
        "data = data.drop(outliers_iqr.index)"
      ]
    },
    {
      "cell_type": "code",
      "execution_count": null,
      "metadata": {
        "colab": {
          "base_uri": "https://localhost:8080/"
        },
        "id": "lX5vAJmbMROb",
        "outputId": "0bffab42-5e1a-4e66-f872-3e1a13d11526"
      },
      "outputs": [],
      "source": [
        "data.shape"
      ]
    },
    {
      "cell_type": "code",
      "execution_count": null,
      "metadata": {
        "colab": {
          "base_uri": "https://localhost:8080/",
          "height": 1000
        },
        "id": "byRvySwFyqK2",
        "outputId": "3eb4728f-6e68-4630-efc7-40fe1f59b6a6"
      },
      "outputs": [],
      "source": [
        "# Specify the column you want to analyze for outliers (e.g., 'age')\n",
        "column_name = 'glucose'\n",
        "\n",
        "# Method 2: IQR (Interquartile Range) Method\n",
        "Q1 = data[column_name].quantile(0.25)\n",
        "Q3 = data[column_name].quantile(0.75)\n",
        "IQR = Q3 - Q1\n",
        "\n",
        "# Define lower and upper bounds for outliers\n",
        "lower_bound = Q1 - 1.5 * IQR\n",
        "upper_bound = Q3 + 1.5 * IQR\n",
        "\n",
        "# Identify outliers based on the bounds\n",
        "outliers_iqr = data[(data[column_name] < lower_bound) | (data[column_name] > upper_bound)]\n",
        "\n",
        "print(\"\\nOutliers using IQR Method:\")\n",
        "print(outliers_iqr)\n",
        "\n",
        "print(\"\\n\")\n",
        "# # Create a box plot to visualize outliers\n",
        "# plt.figure(figsize=(8, 6))\n",
        "# plt.boxplot(data[column_name])\n",
        "# plt.title(f'Box Plot for {column_name}')\n",
        "# plt.ylabel(column_name)\n",
        "# plt.show()\n",
        "\n",
        "# Create a scatter plot to visualize outliers\n",
        "plt.figure(figsize=(8, 6))\n",
        "plt.scatter(data.index, data[column_name], label='Data Points', alpha=0.5)\n",
        "plt.scatter(outliers_iqr.index, outliers_iqr[column_name], color='red', label='Outliers (IQR)', alpha=0.7)\n",
        "plt.title(f'Scatter Plot with Outliers for {column_name}')\n",
        "plt.xlabel('Index')\n",
        "plt.ylabel(column_name)\n",
        "plt.legend()\n",
        "plt.show()\n",
        "\n",
        "data = data.drop(outliers_iqr.index)"
      ]
    },
    {
      "cell_type": "code",
      "execution_count": null,
      "metadata": {
        "colab": {
          "base_uri": "https://localhost:8080/"
        },
        "id": "mCp9V4_zMXuD",
        "outputId": "0fec83ef-54b6-44fe-abd6-9eead789c39c"
      },
      "outputs": [],
      "source": [
        "data.shape"
      ]
    },
    {
      "cell_type": "code",
      "execution_count": null,
      "metadata": {
        "colab": {
          "base_uri": "https://localhost:8080/",
          "height": 1000
        },
        "id": "ItnXHSNQyqSn",
        "outputId": "1e8eb09b-d7c5-4826-f240-67a9fb75d356"
      },
      "outputs": [],
      "source": [
        "# Specify the column you want to analyze for outliers (e.g., 'age')\n",
        "column_name = 'kcm'\n",
        "\n",
        "# Method 2: IQR (Interquartile Range) Method\n",
        "Q1 = data[column_name].quantile(0.25)\n",
        "Q3 = data[column_name].quantile(0.75)\n",
        "IQR = Q3 - Q1\n",
        "\n",
        "# Define lower and upper bounds for outliers\n",
        "lower_bound = Q1 - 1.5 * IQR\n",
        "upper_bound = Q3 + 1.5 * IQR\n",
        "\n",
        "# Identify outliers based on the bounds\n",
        "outliers_iqr = data[(data[column_name] < lower_bound) | (data[column_name] > upper_bound)]\n",
        "\n",
        "print(\"\\nOutliers using IQR Method:\")\n",
        "print(outliers_iqr)\n",
        "\n",
        "print(\"\\n\")\n",
        "# # Create a box plot to visualize outliers\n",
        "# plt.figure(figsize=(8, 6))\n",
        "# plt.boxplot(data[column_name])\n",
        "# plt.title(f'Box Plot for {column_name}')\n",
        "# plt.ylabel(column_name)\n",
        "# plt.show()\n",
        "\n",
        "# Create a scatter plot to visualize outliers\n",
        "plt.figure(figsize=(8, 6))\n",
        "plt.scatter(data.index, data[column_name], label='Data Points', alpha=0.5)\n",
        "plt.scatter(outliers_iqr.index, outliers_iqr[column_name], color='red', label='Outliers (IQR)', alpha=0.7)\n",
        "plt.title(f'Scatter Plot with Outliers for {column_name}')\n",
        "plt.xlabel('Index')\n",
        "plt.ylabel(column_name)\n",
        "plt.legend()\n",
        "plt.show()\n",
        "\n",
        "data = data.drop(outliers_iqr.index)"
      ]
    },
    {
      "cell_type": "code",
      "execution_count": null,
      "metadata": {
        "colab": {
          "base_uri": "https://localhost:8080/"
        },
        "id": "ZAG6luwGMiXl",
        "outputId": "db025f0b-51a5-47a4-ec93-936440904243"
      },
      "outputs": [],
      "source": [
        "data.shape"
      ]
    },
    {
      "cell_type": "code",
      "execution_count": null,
      "metadata": {
        "colab": {
          "base_uri": "https://localhost:8080/",
          "height": 1000
        },
        "id": "EBdaqaKTyqZG",
        "outputId": "99bc678c-92ab-428a-b6a2-54cf8ece4458"
      },
      "outputs": [],
      "source": [
        "# Specify the column you want to analyze for outliers (e.g., 'age')\n",
        "column_name = 'troponin'\n",
        "\n",
        "# Method 2: IQR (Interquartile Range) Method\n",
        "Q1 = data[column_name].quantile(0.25)\n",
        "Q3 = data[column_name].quantile(0.75)\n",
        "IQR = Q3 - Q1\n",
        "\n",
        "# Define lower and upper bounds for outliers\n",
        "lower_bound = Q1 - 1.5 * IQR\n",
        "upper_bound = Q3 + 1.5 * IQR\n",
        "\n",
        "# Identify outliers based on the bounds\n",
        "outliers_iqr = data[(data[column_name] < lower_bound) | (data[column_name] > upper_bound)]\n",
        "\n",
        "print(\"\\nOutliers using IQR Method:\")\n",
        "print(outliers_iqr)\n",
        "\n",
        "print(\"\\n\")\n",
        "# # Create a box plot to visualize outliers\n",
        "# plt.figure(figsize=(8, 6))\n",
        "# plt.boxplot(data[column_name])\n",
        "# plt.title(f'Box Plot for {column_name}')\n",
        "# plt.ylabel(column_name)\n",
        "# plt.show()\n",
        "\n",
        "# Create a scatter plot to visualize outliers\n",
        "plt.figure(figsize=(8, 6))\n",
        "plt.scatter(data.index, data[column_name], label='Data Points', alpha=0.5)\n",
        "plt.scatter(outliers_iqr.index, outliers_iqr[column_name], color='red', label='Outliers (IQR)', alpha=0.7)\n",
        "plt.title(f'Scatter Plot with Outliers for {column_name}')\n",
        "plt.xlabel('Index')\n",
        "plt.ylabel(column_name)\n",
        "plt.legend()\n",
        "plt.show()\n",
        "\n",
        "data = data.drop(outliers_iqr.index)"
      ]
    },
    {
      "cell_type": "markdown",
      "metadata": {
        "id": "EQ6JAwfaD-Fv"
      },
      "source": [
        "Cek Data yang Unik"
      ]
    },
    {
      "cell_type": "code",
      "execution_count": null,
      "metadata": {
        "colab": {
          "base_uri": "https://localhost:8080/"
        },
        "id": "5BUKYhgbzPCV",
        "outputId": "43da59a4-f3f1-4952-e71b-d498dabfe0c7"
      },
      "outputs": [],
      "source": [
        "data.shape"
      ]
    },
    {
      "cell_type": "code",
      "execution_count": null,
      "metadata": {
        "colab": {
          "base_uri": "https://localhost:8080/"
        },
        "id": "mvlzvcI5DT7x",
        "outputId": "5f8e2926-5fe2-4ece-8671-afda6eea9c94"
      },
      "outputs": [],
      "source": [
        "# Find unique values in the 'class' column\n",
        "unique_classes = data['class'].unique()\n",
        "\n",
        "# Print the unique values\n",
        "print(\"Data Target:\", unique_classes)"
      ]
    },
    {
      "cell_type": "markdown",
      "metadata": {
        "id": "cZm5hE9GDgbX"
      },
      "source": [
        "Encoding (mengubah data target menjadi numerik agar mempermudah komputasi)"
      ]
    },
    {
      "cell_type": "code",
      "execution_count": null,
      "metadata": {
        "colab": {
          "base_uri": "https://localhost:8080/"
        },
        "id": "voUZfH5oBJAo",
        "outputId": "c3eec29a-e9d2-402d-8b37-f1f3c34378c1"
      },
      "outputs": [],
      "source": [
        "data['class'] = data['class'].replace({'negative': 0, 'positive': 1})\n",
        "data.info()"
      ]
    },
    {
      "cell_type": "code",
      "execution_count": null,
      "metadata": {
        "colab": {
          "base_uri": "https://localhost:8080/",
          "height": 383
        },
        "id": "bUNoXr0YDbaa",
        "outputId": "3ede8db3-1787-453f-fa92-84b57adcd0d4"
      },
      "outputs": [],
      "source": [
        "# Select the columns you want to normalize\n",
        "columns_to_normalize = ['age', 'gender', 'impluse', 'pressurehight', 'pressurelow', 'glucose', 'kcm', 'troponin']\n",
        "x_data = data[columns_to_normalize]\n",
        "x_data.sample(10)"
      ]
    },
    {
      "cell_type": "code",
      "execution_count": null,
      "metadata": {
        "colab": {
          "base_uri": "https://localhost:8080/"
        },
        "id": "j-MVPSWHFzVV",
        "outputId": "88ce1f84-5dc1-4859-f6de-7d0311cb33c6"
      },
      "outputs": [],
      "source": [
        "y_target = data['class']\n",
        "y_target.head()"
      ]
    },
    {
      "cell_type": "code",
      "execution_count": null,
      "metadata": {
        "colab": {
          "base_uri": "https://localhost:8080/",
          "height": 226
        },
        "id": "DtaQoio5GJD2",
        "outputId": "4eb01768-6a36-4fa3-87a8-e663e8dc301c"
      },
      "outputs": [],
      "source": [
        "from sklearn.preprocessing import MinMaxScaler\n",
        "\n",
        "# Normalize the selected columns using Min-Max scaling\n",
        "scaler = MinMaxScaler()\n",
        "x_data_normalized = scaler.fit_transform(x_data)\n",
        "x_data_normalized = pd.DataFrame(x_data_normalized, columns=columns_to_normalize)\n",
        "\n",
        "x_data_normalized.head()"
      ]
    },
    {
      "cell_type": "code",
      "execution_count": null,
      "metadata": {
        "colab": {
          "base_uri": "https://localhost:8080/"
        },
        "id": "64fRrbOlGUiz",
        "outputId": "4ac2a232-63b7-4b35-f5cc-cad62d145592"
      },
      "outputs": [],
      "source": [
        "data['class'].value_counts()"
      ]
    },
    {
      "cell_type": "markdown",
      "metadata": {
        "id": "cMouNWV6JDxy"
      },
      "source": [
        "Plot Data"
      ]
    },
    {
      "cell_type": "code",
      "execution_count": null,
      "metadata": {
        "colab": {
          "base_uri": "https://localhost:8080/",
          "height": 449
        },
        "id": "8OYFmwpHIdBt",
        "outputId": "8af620dd-4b94-4dfb-9895-991f8356e338"
      },
      "outputs": [],
      "source": [
        "sns.countplot(x='class', data=data)\n",
        "plt.xticks([0,1],['negative','positive'])\n",
        "plt.show()"
      ]
    },
    {
      "cell_type": "code",
      "execution_count": null,
      "metadata": {
        "colab": {
          "base_uri": "https://localhost:8080/",
          "height": 449
        },
        "id": "mDCNA1cGJFko",
        "outputId": "c186dc5c-d03f-4656-8611-c6a78021a4a7"
      },
      "outputs": [],
      "source": [
        "sns.countplot(x='gender', hue=\"class\", data=data)\n",
        "plt.xticks([0,1],['Female','Male'])\n",
        "plt.legend(labels=['No-Disease','Disease']) #ini dari matplotlib.pyplot #merupakan label data dalam plot agar lebih mempermudah kita dalam membaca data.\n",
        "plt.show() #menampilkan data visual"
      ]
    },
    {
      "cell_type": "code",
      "execution_count": null,
      "metadata": {
        "colab": {
          "base_uri": "https://localhost:8080/",
          "height": 327
        },
        "id": "oCfWPre2JkPw",
        "outputId": "debc2fb0-83f1-4bd5-e401-222a3a444b9d"
      },
      "outputs": [],
      "source": [
        "# Create a chart to visualize the normalized data\n",
        "fig, ax = plt.subplots(figsize=(8, 4))\n",
        "\n",
        "for column in columns_to_normalize:\n",
        "    ax.plot(x_data_normalized[column], label=column)\n",
        "\n",
        "ax.set_xticks(range(len(x_data_normalized)))\n",
        "ax.set_xticklabels(x_data_normalized.index)\n",
        "ax.set_ylim(0, 1)\n",
        "ax.set_xlabel(\"Index\")\n",
        "ax.set_ylabel(\"Normalized Values\")\n",
        "ax.set_title(\"Normalized Dataset Chart\")\n",
        "ax.legend()\n",
        "plt.tight_layout()\n",
        "plt.show()"
      ]
    },
    {
      "cell_type": "code",
      "execution_count": null,
      "metadata": {
        "colab": {
          "base_uri": "https://localhost:8080/",
          "height": 329
        },
        "id": "UcEUAryyJqcj",
        "outputId": "00e914f6-9b26-442d-8c15-802088723ce5"
      },
      "outputs": [],
      "source": [
        "# Load your dataset\n",
        "data = pd.read_csv('/content/sample_data/heart_attack.csv')\n",
        "\n",
        "\n",
        "# Select the columns you want to plot\n",
        "columns_to_plot = ['age', 'gender', 'impluse', 'pressurehight', 'pressurelow', 'glucose', 'kcm', 'troponin']\n",
        "x_data_original = data[columns_to_plot]\n",
        "\n",
        "# Create a chart to visualize the original data\n",
        "fig, ax = plt.subplots(figsize=(12, 6))\n",
        "\n",
        "for column in columns_to_plot:\n",
        "    ax.plot(x_data_original[column], label=column)\n",
        "\n",
        "ax.set_xticks(range(len(data)))\n",
        "ax.set_xticklabels(data.index)\n",
        "ax.set_xlabel(\"Index\")\n",
        "ax.set_ylabel(\"Original Values\")\n",
        "ax.set_title(\"Original Dataset Chart\")\n",
        "ax.legend()\n",
        "plt.tight_layout()\n",
        "plt.show()"
      ]
    },
    {
      "cell_type": "code",
      "execution_count": null,
      "metadata": {
        "colab": {
          "base_uri": "https://localhost:8080/",
          "height": 163
        },
        "id": "ckvYSTwZNdJa",
        "outputId": "24018f19-3a53-4189-f926-1320f4b04b4d"
      },
      "outputs": [],
      "source": [
        "data[data.impluse>1000]"
      ]
    },
    {
      "cell_type": "code",
      "execution_count": null,
      "metadata": {
        "id": "48eBO_Anz8nY"
      },
      "outputs": [],
      "source": [
        "from sklearn.model_selection import train_test_split\n",
        "\n",
        "#70 : 30\n",
        "X_train, X_test, y_train, y_test = train_test_split(\n",
        "    x_data_normalized, y_target, test_size=0.3, random_state=42\n",
        ")"
      ]
    },
    {
      "cell_type": "markdown",
      "metadata": {
        "id": "DxmHvPKflZ-l"
      },
      "source": [
        "# **K-Fold Cross Validation**"
      ]
    },
    {
      "cell_type": "code",
      "execution_count": null,
      "metadata": {
        "id": "6cogzZunlhqo"
      },
      "outputs": [],
      "source": [
        "from sklearn.model_selection import KFold\n",
        "num_folds = 5\n",
        "kf = KFold(n_splits=num_folds, shuffle=True, random_state=42)"
      ]
    },
    {
      "cell_type": "code",
      "execution_count": null,
      "metadata": {
        "colab": {
          "base_uri": "https://localhost:8080/",
          "height": 74
        },
        "id": "5nclGhCurCyE",
        "outputId": "5062cfd5-4091-42ee-cdab-c7385bb313b3"
      },
      "outputs": [],
      "source": [
        "from sklearn import tree\n",
        "\n",
        "DecisionTree = tree.DecisionTreeClassifier(ccp_alpha=0.0, class_weight=None, criterion='entropy',\n",
        "                                          max_depth=4, max_features=None, max_leaf_nodes=None,\n",
        "                                          min_impurity_decrease=0.0, min_samples_leaf=1, min_samples_split=2,\n",
        "                                          min_weight_fraction_leaf=0.0, splitter='best')\n",
        "DecisionTree.fit(X_train, y_train)"
      ]
    },
    {
      "cell_type": "code",
      "execution_count": null,
      "metadata": {
        "colab": {
          "base_uri": "https://localhost:8080/"
        },
        "id": "Ii3faraNmwgg",
        "outputId": "e815786f-d37f-472d-f104-e7b47c721818"
      },
      "outputs": [],
      "source": [
        "from sklearn.metrics import accuracy_score\n",
        "\n",
        "accuracy_scores = []\n",
        "\n",
        "# Melakukan k-fold cross-validation\n",
        "for train_index, val_index in kf.split(X_train):\n",
        "    # Memisahkan data training dan validation untuk fold saat ini\n",
        "    X_train_fold, X_val_fold = X_train.iloc[train_index], X_train.iloc[val_index]\n",
        "    y_train_fold, y_val_fold = y_train.iloc[train_index], y_train.iloc[val_index]\n",
        "\n",
        "    # Melatih model pada data training fold saat ini\n",
        "    DecisionTree.fit(X_train_fold, y_train_fold)\n",
        "\n",
        "    # Mengevaluasi model pada data validation fold saat ini\n",
        "    y_val_pred = DecisionTree.predict(X_val_fold)\n",
        "\n",
        "    # Menghitung dan menyimpan skor akurasi\n",
        "    accuracy = accuracy_score(y_val_fold, y_val_pred)\n",
        "    accuracy_scores.append(accuracy)\n",
        "\n",
        "# Menampilkan skor akurasi untuk setiap fold\n",
        "for i, accuracy in enumerate(accuracy_scores):\n",
        "    print(f\"Accuracy for fold {i+1}: {accuracy}\")\n",
        "\n",
        "# Menghitung rata-rata skor akurasi dari seluruh fold\n",
        "average_accuracy = sum(accuracy_scores) / len(accuracy_scores)\n",
        "print(\"Average accuracy across all folds:\", average_accuracy)"
      ]
    },
    {
      "cell_type": "code",
      "execution_count": null,
      "metadata": {
        "colab": {
          "base_uri": "https://localhost:8080/"
        },
        "id": "jQf1Rx5iPAIz",
        "outputId": "f02856d4-15ef-48cf-8822-5a405e33567b"
      },
      "outputs": [],
      "source": [
        "y_pred = DecisionTree.predict(X_test)\n",
        "treeAccuracy = accuracy_score(y_pred, y_test)\n",
        "print(treeAccuracy)"
      ]
    },
    {
      "cell_type": "markdown",
      "metadata": {
        "id": "6SoJTaemAMZl"
      },
      "source": [
        "**Confusion Matrix**"
      ]
    },
    {
      "cell_type": "code",
      "execution_count": null,
      "metadata": {
        "colab": {
          "base_uri": "https://localhost:8080/",
          "height": 681
        },
        "id": "K2dKboNjATNU",
        "outputId": "f5719399-331a-416f-f167-163af6bcbc86"
      },
      "outputs": [],
      "source": [
        "from sklearn.metrics import confusion_matrix, ConfusionMatrixDisplay, classification_report # Import library untuk menampilkan Confucion Matrix\n",
        "import seaborn as sns # Import library visualisasi untuk Confucion Matrix\n",
        "import matplotlib.pyplot as plt\n",
        "\n",
        "# Mengitung Confucion Matrix dari hasil testing\n",
        "y_pred = DecisionTree.predict(X_test)\n",
        "cm = confusion_matrix(y_test, y_pred)\n",
        "\n",
        "class_names=['negative', 'positive']\n",
        "print(classification_report(y_test, y_pred, target_names=class_names))\n",
        "\n",
        "# Menampilkan Confucion Matrix\n",
        "plt.figure(figsize=(8, 6))\n",
        "sns.heatmap(cm, annot=True, fmt=\"d\", cmap=\"Blues\")\n",
        "plt.xlabel(\"Predicted Labels\")\n",
        "plt.ylabel(\"True Labels\")\n",
        "plt.show()"
      ]
    },
    {
      "cell_type": "markdown",
      "metadata": {
        "id": "CmzBVtHlRKNL"
      },
      "source": [
        "Visualisasi Data"
      ]
    },
    {
      "cell_type": "code",
      "execution_count": null,
      "metadata": {
        "colab": {
          "base_uri": "https://localhost:8080/",
          "height": 679
        },
        "id": "AgQuMC9YrSeF",
        "outputId": "078528e4-6fbd-411d-8ee9-0a16aa515c9d"
      },
      "outputs": [],
      "source": [
        "from sklearn.tree import export_graphviz\n",
        "import pydotplus\n",
        "from IPython.display import Image\n",
        "\n",
        "dot_data = export_graphviz(\n",
        "    decision_tree=DecisionTree,\n",
        "    max_depth=5,\n",
        "    out_file=None,\n",
        "    filled=True,\n",
        "    rounded=True,\n",
        "    feature_names=[\n",
        "        \"age\",\n",
        "        \"gender\",\n",
        "        \"impluse\",\n",
        "        \"pressurehight\",\n",
        "        \"pressurelow\",\n",
        "        \"glucose\",\n",
        "        \"kcm\",\n",
        "        \"troponin\"\n",
        "    ],\n",
        "    class_names=[\"negative\", \"positive\"],\n",
        ")\n",
        "\n",
        "# Create a graph from the DOT data\n",
        "graph = pydotplus.graph_from_dot_data(dot_data)\n",
        "\n",
        "# Display the decision tree as an image\n",
        "Image(graph.create_png())"
      ]
    }
  ],
  "metadata": {
    "accelerator": "GPU",
    "colab": {
      "gpuType": "T4",
      "provenance": []
    },
    "kernelspec": {
      "display_name": "Python 3",
      "name": "python3"
    },
    "language_info": {
      "codemirror_mode": {
        "name": "ipython",
        "version": 3
      },
      "file_extension": ".py",
      "mimetype": "text/x-python",
      "name": "python",
      "nbconvert_exporter": "python",
      "pygments_lexer": "ipython3",
      "version": "3.11.5"
    }
  },
  "nbformat": 4,
  "nbformat_minor": 0
}
